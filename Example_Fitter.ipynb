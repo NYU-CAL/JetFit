{
 "cells": [
  {
   "cell_type": "code",
   "execution_count": 1,
   "metadata": {},
   "outputs": [],
   "source": [
    "import numpy as np\n",
    "import h5py as h5\n",
    "import os\n",
    "import sys\n",
    "import emcee as em\n",
    "import matplotlib.pyplot as plt\n",
    "import warnings\n",
    "import pandas as pd\n",
    "import pickle\n",
    "\n",
    "from JetFit import FitterClass\n",
    "\n",
    "% matplotlib inline"
   ]
  },
  {
   "cell_type": "markdown",
   "metadata": {},
   "source": [
    "# Parameters"
   ]
  },
  {
   "cell_type": "code",
   "execution_count": 2,
   "metadata": {},
   "outputs": [],
   "source": [
    "Table = \"./Table.h5\" \n",
    "\n",
    "Info = {\n",
    "    'Fit': np.array(['theta_obs']),  # Fitting parameters\n",
    "    'Log': np.array(['E','n','epse','epsb']),        # Set parameters in log scale\n",
    "    'LogType': 'Log10',                              # Log scale type: Log10 or Log\n",
    "    'ThetaObsPrior': 'Sine',                         # Prior for observation angle: Sine or Uniform\n",
    "    'FluxType': 'Spectral'                           # Flux type: Spectral or Integrated\n",
    "}\n",
    "\n",
    "### Bounds for parameters. All in linear scale. \n",
    "FitBound = {\n",
    "    'E': np.array([1e-6, 1e3]),\n",
    "    'n': np.array([1e-6, 1e3]),\n",
    "    'Eta0': np.array([2.,10.]),\n",
    "    'GammaB': np.array([1.,12.]),\n",
    "    'theta_obs': np.array([0.,1.]),\n",
    "    'epse': np.array([1e-6,1.]),\n",
    "    'epsb': np.array([1e-6,1.]),\n",
    "    'p': np.array([2.,4.])\n",
    "}\n",
    "\n",
    "\n",
    "\n",
    "### P serves two purposes: \n",
    "###    1. Set default values for non-fiting parameters.\n",
    "###    2. In formal run, set maximum posterior values for fitting parameters. (In trial run, values are ignored.)\n",
    "       \n",
    "P = {\n",
    "    'E': 0.15869069395227384,\n",
    "    'Eta0': 7.973477192135503,\n",
    "    'GammaB': 11.000923300022666,\n",
    "    'dL': 0.012188,\n",
    "    'epsb': 0.013323706571267526,\n",
    "    'epse': 0.04072783842837688,\n",
    "    'n': 0.0009871221028954489,\n",
    "    'p': 2.1333493591554804,\n",
    "    'theta_obs': 0.4769798916899842,\n",
    "    'xiN': 1.0,\n",
    "    'z': 0.00973\n",
    "}\n",
    "\n",
    "Trial = True"
   ]
  },
  {
   "cell_type": "code",
   "execution_count": 3,
   "metadata": {},
   "outputs": [],
   "source": [
    "# Path to observation data. \n",
    "GRB = './GW170817.csv'\n",
    "\n",
    "### parameters for fitter. \n",
    "# for demostaration\n",
    "SamplerType = \"ParallelTempered\"\n",
    "NTemps = 2          \n",
    "NWalkers = 10      \n",
    "Threads = 8        \n",
    "\n",
    "BurnLength = 20     \n",
    "RunLength = 20     \n",
    "\n",
    "### For GW170817 and bellow parameters, it takes ~24 hours to finish. \n",
    "### For quick run, values of the parameters can be modified accordingly. \n",
    "# SamplerType = \"ParallelTempered\"\n",
    "# NTemps = 10          \n",
    "# NWalkers = 100      \n",
    "# Threads = 8        \n",
    "\n",
    "# BurnLength = 10000     \n",
    "# RunLength = 10000  "
   ]
  },
  {
   "cell_type": "markdown",
   "metadata": {},
   "source": [
    "# Fitter "
   ]
  },
  {
   "cell_type": "code",
   "execution_count": 4,
   "metadata": {},
   "outputs": [],
   "source": [
    "# Initialize Fitter\n",
    "Fitter = FitterClass(Table, Info, FitBound, P, Trial = Trial)\n",
    "\n",
    "# LoadData\n",
    "DF = pd.read_csv(GRB)\n",
    "Times, TimeBnds, Fluxes, FluxErrs, Freqs = DF['Times'].values, DF['TimeBnds'].values, DF['Fluxes'].values, DF['FluxErrs'].values, DF['Freqs'].values\n",
    "Fitter.LoadData(Times, TimeBnds, Fluxes, FluxErrs, Freqs)\n",
    "\n",
    "# Initialize sampler\n",
    "Fitter.GetSampler(SamplerType, NTemps, NWalkers, Threads)"
   ]
  },
  {
   "cell_type": "markdown",
   "metadata": {},
   "source": [
    "# Fitting"
   ]
  },
  {
   "cell_type": "code",
   "execution_count": 5,
   "metadata": {},
   "outputs": [
    {
     "name": "stdout",
     "output_type": "stream",
     "text": [
      " Burning in... 100.0% Time=00 m 41 s"
     ]
    }
   ],
   "source": [
    "### Burning in\n",
    "\n",
    "BurnInResult = Fitter.BurnIn(BurnLength = BurnLength)"
   ]
  },
  {
   "cell_type": "code",
   "execution_count": 6,
   "metadata": {},
   "outputs": [
    {
     "name": "stdout",
     "output_type": "stream",
     "text": [
      " Running... 100.0% Time=00 m 41 s"
     ]
    }
   ],
   "source": [
    "### Fitting\n",
    "\n",
    "Result = Fitter.RunSampler(RunLength = RunLength, Output = None)"
   ]
  },
  {
   "cell_type": "markdown",
   "metadata": {},
   "source": [
    "# Analysis"
   ]
  },
  {
   "cell_type": "markdown",
   "metadata": {},
   "source": [
    "### Plot Light Curves"
   ]
  },
  {
   "cell_type": "code",
   "execution_count": 7,
   "metadata": {},
   "outputs": [],
   "source": [
    "def Log2Linear(Log, Info):\n",
    "    Linear = []\n",
    "    for i, key in enumerate(Info['Fit']):\n",
    "        if key in Info['Log']:\n",
    "            if Info['LogType'] == 'Log10':\n",
    "                Linear.append(np.power(10.,Log[i]))\n",
    "            else:\n",
    "                Linear.append(np.exp(Log[i]))\n",
    "        else:\n",
    "            Linear.append(Log[i])\n",
    "    return np.array(Linear)\n",
    "\n",
    "def PltDF(ax, DF, ColorList=['orange','red','g','b'], ScaleFactor=[1.,1.,1.,1.], Legend=True, XAxisDay=False):\n",
    "    Freqs = DF['Freqs'].unique()\n",
    "\n",
    "    for Freq,Color,Scale in zip(Freqs,ColorList,ScaleFactor):\n",
    "        SubDF = DF[DF['Freqs']==Freq]\n",
    "        if XAxisDay:\n",
    "            Times = SubDF['Times']/24./3600\n",
    "        else:\n",
    "            Times = SubDF['Times']\n",
    "        Fluxes = SubDF['Fluxes']\n",
    "        FluxErrs = SubDF['FluxErrs']\n",
    "        if max(ScaleFactor) > 1.:\n",
    "            label = '%.1e x %d' %(Freq, Scale)\n",
    "        else:\n",
    "            label='%.1e' %Freq\n",
    "        ax.errorbar(Times, Fluxes*Scale, yerr = FluxErrs*Scale, color=Color, fmt = '.', label=label)\n",
    "\n",
    "    ax.set_yscale('log')                                                                              \n",
    "    ax.set_xscale('log')     \n",
    "    ax.set_ylabel('Flux density (mJy)')     \n",
    "    if XAxisDay:\n",
    "        ax.set_xlabel('Time (day)') \n",
    "    else:\n",
    "        ax.set_xlabel('Time (s)') \n",
    "    if Legend: \n",
    "        ax.legend(loc=0);"
   ]
  },
  {
   "cell_type": "code",
   "execution_count": 8,
   "metadata": {},
   "outputs": [],
   "source": [
    "TheChain = Result['Chain']\n",
    "LnProbability = Result['LnProbability']\n",
    "FitDim = len(Info['Fit'])\n",
    "\n",
    "BestWalker = np.unravel_index(np.nanargmax(LnProbability), LnProbability.shape)\n",
    "BestParameter = TheChain[BestWalker]\n",
    "BestLnProbability = LnProbability[BestWalker]\n",
    "BestLinearParameter = Log2Linear(BestParameter, Info)\n",
    "\n",
    "BestP = P.copy()\n",
    "for i, key in enumerate(Info['Fit']):\n",
    "    BestP[key] = BestLinearParameter[i]\n",
    "    "
   ]
  },
  {
   "cell_type": "code",
   "execution_count": 9,
   "metadata": {},
   "outputs": [
    {
     "data": {
      "image/png": "[encoded data removed]",
      "text/plain": [
       "<matplotlib.figure.Figure at 0x102ceea10>"
      ]
     },
     "metadata": {
      "needs_background": "light"
     },
     "output_type": "display_data"
    }
   ],
   "source": [
    "fig, ax = plt.subplots(figsize=(8,8));\n",
    "ColorList = ['orange','red','g','b']\n",
    "ScaleFactor =  [6.,1.,100., 800.]\n",
    "\n",
    "PltDF(ax, DF, ColorList=ColorList, ScaleFactor=ScaleFactor, Legend=True, XAxisDay=True)\n",
    "\n",
    "NPoints = 200\n",
    "Left = 1.; Right = 2.\n",
    "for i, Freq in enumerate(DF['Freqs'].unique()):\n",
    "    idx = DF['Freqs']==Freq    \n",
    "    NewTimes = np.linspace(DF['Times'].min()*Left, DF['Times'].max()*Right, NPoints)\n",
    "    NewFreqs = np.ones(len(NewTimes))*Freq\n",
    "    \n",
    "    ### Generate Fluxes \n",
    "    FluxesModel = np.asarray(Fitter.FluxGenerator.GetSpectral(NewTimes, NewFreqs, BestP))\n",
    "    \n",
    "    plt.loglog(NewTimes/24./3600., FluxesModel*ScaleFactor[i], '--', color=ColorList[i], linewidth=1.5);"
   ]
  },
  {
   "cell_type": "markdown",
   "metadata": {},
   "source": [
    "### Plot Distribution"
   ]
  },
  {
   "cell_type": "code",
   "execution_count": 10,
   "metadata": {},
   "outputs": [],
   "source": [
    "Info['Fit']\n",
    "\n",
    "Latex = {\n",
    "    'E': r'$log_{10}E_{j,50}$',\n",
    "    'n': r'$log_{10}n_{0,0}$',\n",
    "    'Eta0': r'$\\eta_0$',\n",
    "    'GammaB': r'$\\gamma_B$',\n",
    "    'theta_obs': r'$\\theta_{obs}$',\n",
    "    'epse': r'$log_{10}\\epsilon_e$',\n",
    "    'epsb': r'$log_{10}\\epsilon_B$',\n",
    "    'p': r'$p$'\n",
    "}\n",
    "\n",
    "Label = []\n",
    "for x in Info['Fit']:\n",
    "    Label.append(Latex[x])"
   ]
  },
  {
   "cell_type": "code",
   "execution_count": 11,
   "metadata": {},
   "outputs": [],
   "source": [
    "from chainconsumer import ChainConsumer\n",
    "\n",
    "FitDim = len(Info['Fit'])\n",
    "Chain = Result['Chain'].reshape((-1, FitDim))\n",
    "\n",
    "Label = Label\n",
    "\n",
    "c = ChainConsumer().add_chain(Chain, walkers=100, parameters=Label, name=\"Median\")\n",
    "c.configure(spacing=1, bins=1., smooth=0, sigmas=[0,0.25,1,2,3], colors='b')\n",
    "c.configure_truth(color='blue', ls=\"--\", alpha=0.5);"
   ]
  },
  {
   "cell_type": "code",
   "execution_count": 12,
   "metadata": {},
   "outputs": [
    {
     "name": "stderr",
     "output_type": "stream",
     "text": [
      "WARNING:chainconsumer.analysis:Parameter $\\theta_{obs}$ in chain Median is not constrained\n"
     ]
    },
    {
     "data": {
      "text/html": [
       "<div>\n",
       "<style scoped>\n",
       "    .dataframe tbody tr th:only-of-type {\n",
       "        vertical-align: middle;\n",
       "    }\n",
       "\n",
       "    .dataframe tbody tr th {\n",
       "        vertical-align: top;\n",
       "    }\n",
       "\n",
       "    .dataframe thead th {\n",
       "        text-align: right;\n",
       "    }\n",
       "</style>\n",
       "<table border=\"1\" class=\"dataframe\">\n",
       "  <thead>\n",
       "    <tr style=\"text-align: right;\">\n",
       "      <th></th>\n",
       "      <th>theta_obs</th>\n",
       "    </tr>\n",
       "  </thead>\n",
       "  <tbody>\n",
       "    <tr>\n",
       "      <th>Median</th>\n",
       "      <td>0.476672</td>\n",
       "    </tr>\n",
       "    <tr>\n",
       "      <th>Best</th>\n",
       "      <td>0.477463</td>\n",
       "    </tr>\n",
       "  </tbody>\n",
       "</table>\n",
       "</div>"
      ],
      "text/plain": [
       "        theta_obs\n",
       "Median   0.476672\n",
       "Best     0.477463"
      ]
     },
     "execution_count": 12,
     "metadata": {},
     "output_type": "execute_result"
    }
   ],
   "source": [
    "Median = {}\n",
    "Summary = c.analysis.get_summary()\n",
    "for key in Label:\n",
    "    Median[key] = Summary[key][1]\n",
    "    \n",
    "MedianParameter = []\n",
    "for i, key in enumerate(Info['Fit']):\n",
    "    MedianParameter.append(Summary[Label[i]][1])\n",
    "\n",
    "MedianLinearParameter = Log2Linear(MedianParameter, Info)\n",
    "MedianP = P.copy()\n",
    "for i, key in enumerate(Info['Fit']):\n",
    "    MedianP[key] = MedianLinearParameter[i]\n",
    "    \n",
    "df = (pd.DataFrame(MedianLinearParameter, index=Info['Fit'], columns=['Median'])).T\n",
    "df.loc['Best'] = BestLinearParameter\n",
    "df"
   ]
  },
  {
   "cell_type": "code",
   "execution_count": 13,
   "metadata": {},
   "outputs": [
    {
     "data": {
      "image/png": "[encoded data removed]",
      "text/plain": [
       "<matplotlib.figure.Figure at 0xb1b0caf50>"
      ]
     },
     "metadata": {
      "needs_background": "light"
     },
     "output_type": "display_data"
    }
   ],
   "source": [
    "fig = c.plotter.plot(figsize='PAGE',truth=Median)"
   ]
  },
  {
   "cell_type": "code",
   "execution_count": null,
   "metadata": {},
   "outputs": [],
   "source": []
  }
 ],
 "metadata": {
  "anaconda-cloud": {},
  "kernelspec": {
   "display_name": "Python 2",
   "language": "python",
   "name": "python2"
  },
  "language_info": {
   "codemirror_mode": {
    "name": "ipython",
    "version": 2
   },
   "file_extension": ".py",
   "mimetype": "text/x-python",
   "name": "python",
   "nbconvert_exporter": "python",
   "pygments_lexer": "ipython2",
   "version": "2.7.15"
  }
 },
 "nbformat": 4,
 "nbformat_minor": 1
}
